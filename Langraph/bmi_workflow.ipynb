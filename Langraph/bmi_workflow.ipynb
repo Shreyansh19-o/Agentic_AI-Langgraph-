{
 "cells": [
  {
   "cell_type": "code",
   "execution_count": 2,
   "id": "0335efa6",
   "metadata": {},
   "outputs": [],
   "source": [
    "from langgraph.graph import StateGraph , START , END\n",
    "from typing import TypedDict\n"
   ]
  },
  {
   "cell_type": "code",
   "execution_count": 3,
   "id": "f3fd073e",
   "metadata": {},
   "outputs": [],
   "source": [
    "#define state\n",
    "class BMIstate(TypedDict):\n",
    "    weight: float\n",
    "    height: float\n",
    "    bmi: float\n",
    "    category: str"
   ]
  },
  {
   "cell_type": "code",
   "execution_count": 4,
   "id": "8af12ec1",
   "metadata": {},
   "outputs": [],
   "source": [
    "def calculate_bmi(state:BMIstate) -> BMIstate:\n",
    "    weight = state['weight']\n",
    "    height = state['height']\n",
    "    bmi = weight / (height ** 2)\n",
    "    state['bmi'] = round(bmi,2)\n",
    "    return state "
   ]
  },
  {
   "cell_type": "code",
   "execution_count": 5,
   "id": "4f73208e",
   "metadata": {},
   "outputs": [],
   "source": [
    "def label_bmi(state: BMIstate) -> BMIstate:\n",
    "    bmi = state['bmi']\n",
    "    if bmi < 18.5:\n",
    "        state['category'] = 'Underweight'\n",
    "    elif 18.5 <= bmi < 24.9:\n",
    "        state['category'] = 'Normal weight'\n",
    "    elif 25 <= bmi < 29.9:\n",
    "        state['category'] = 'Overweight'\n",
    "    else:\n",
    "        state['category'] = 'Obesity'\n",
    "    return state"
   ]
  },
  {
   "cell_type": "code",
   "execution_count": 6,
   "id": "ee1e4b9b",
   "metadata": {},
   "outputs": [],
   "source": [
    "#define graph\n",
    "graph=StateGraph(BMIstate)\n",
    "\n",
    "#add nodes\n",
    "graph.add_node('calculate_bmi',calculate_bmi)\n",
    "graph.add_node('label_bmi',label_bmi)\n",
    "#add edges\n",
    "graph.add_edge(START,'calculate_bmi')\n",
    "graph.add_edge('calculate_bmi','label_bmi')\n",
    "graph.add_edge('label_bmi',END)\n",
    "\n",
    "#compile grapgh\n",
    "workflow=graph.compile()\n",
    "#execute graph\n"
   ]
  },
  {
   "cell_type": "code",
   "execution_count": 7,
   "id": "911c0a56",
   "metadata": {},
   "outputs": [
    {
     "name": "stdout",
     "output_type": "stream",
     "text": [
      "results {'weight': 80, 'height': 1.85, 'bmi': 23.37, 'category': 'Normal weight'}\n"
     ]
    }
   ],
   "source": [
    "initial_state={'weight': 80, 'height': 1.85, 'bmi': 0.0}\n",
    "output_state=workflow.invoke(initial_state)\n",
    "print(f\"results {output_state}\")"
   ]
  }
 ],
 "metadata": {
  "kernelspec": {
   "display_name": "GENAI",
   "language": "python",
   "name": "python3"
  },
  "language_info": {
   "codemirror_mode": {
    "name": "ipython",
    "version": 3
   },
   "file_extension": ".py",
   "mimetype": "text/x-python",
   "name": "python",
   "nbconvert_exporter": "python",
   "pygments_lexer": "ipython3",
   "version": "3.13.5"
  }
 },
 "nbformat": 4,
 "nbformat_minor": 5
}
