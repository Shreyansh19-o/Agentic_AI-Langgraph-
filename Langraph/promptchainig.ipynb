{
 "cells": [
  {
   "cell_type": "code",
   "execution_count": 53,
   "id": "2ac95814",
   "metadata": {},
   "outputs": [
    {
     "data": {
      "text/plain": [
       "True"
      ]
     },
     "execution_count": 53,
     "metadata": {},
     "output_type": "execute_result"
    }
   ],
   "source": [
    "from langgraph.graph import StateGraph , START ,END\n",
    "from langchain_google_genai import ChatGoogleGenerativeAI\n",
    "from typing import TypedDict\n",
    "from dotenv import load_dotenv\n",
    "load_dotenv()   "
   ]
  },
  {
   "cell_type": "code",
   "execution_count": 54,
   "id": "854fd3b9",
   "metadata": {},
   "outputs": [],
   "source": [
    "model=ChatGoogleGenerativeAI(model='gemini-2.0-flash')"
   ]
  },
  {
   "cell_type": "code",
   "execution_count": 55,
   "id": "a00b80ee",
   "metadata": {},
   "outputs": [],
   "source": [
    "class BlogState(TypedDict):\n",
    "    title:str\n",
    "    outline:str\n",
    "    content:str"
   ]
  },
  {
   "cell_type": "code",
   "execution_count": 56,
   "id": "98f23e56",
   "metadata": {},
   "outputs": [],
   "source": [
    "\n",
    "def create_outline(state: BlogState) -> BlogState:\n",
    "\n",
    "    # fetch title\n",
    "    title = state['title']\n",
    "\n",
    "    # call llm gen outline\n",
    "    prompt = f'Generate a detailed outline for a blog on the topic - {title}'\n",
    "    outline = model.invoke(prompt).content\n",
    "\n",
    "    # update state\n",
    "    state['outline'] = outline\n",
    "\n",
    "    return state\n",
    "def create_blog(state: BlogState) -> BlogState:\n",
    "\n",
    "    title = state['title']\n",
    "    outline = state['outline']\n",
    "\n",
    "    prompt = f'Write a detailed blog on the title - {title} using the follwing outline \\n {outline}'\n",
    "\n",
    "    content = model.invoke(prompt).content\n",
    "\n",
    "    state['content'] = content\n"
   ]
  },
  {
   "cell_type": "code",
   "execution_count": 57,
   "id": "3c1dbcb0",
   "metadata": {},
   "outputs": [],
   "source": [
    "graph = StateGraph(BlogState)\n",
    "\n",
    "# nodes\n",
    "graph.add_node('create_outline', create_outline)\n",
    "graph.add_node('create_blog', create_blog)\n",
    "\n",
    "# edges\n",
    "graph.add_edge(START, 'create_outline')\n",
    "graph.add_edge('create_outline', 'create_blog')\n",
    "graph.add_edge('create_blog', END)\n",
    "workflow = graph.compile()"
   ]
  },
  {
   "cell_type": "code",
   "execution_count": 60,
   "id": "6613bb6e",
   "metadata": {},
   "outputs": [
    {
     "name": "stdout",
     "output_type": "stream",
     "text": [
      "{'title': 'Rise of AI in India', 'outline': '## Blog Outline: Rise of AI in India\\n\\n**I. Introduction**\\n\\n*   **Hook:** Start with a captivating statistic or anecdote about AI\\'s impact in India (e.g., AI-powered farming increasing yield, AI chatbots improving customer service).\\n*   **Brief Definition of AI:** Clearly and concisely define Artificial Intelligence. Avoid technical jargon. Focus on its core capabilities (learning, problem-solving, decision-making).\\n*   **Thesis Statement:** Highlight the rapid adoption and transformative potential of AI in India across various sectors, while acknowledging existing challenges and future opportunities.  Example: \"India is experiencing a significant surge in AI adoption, poised to revolutionize its economy and society, but navigating challenges related to infrastructure, skills, and ethical considerations will be crucial for realizing its full potential.\"\\n*   **Blog Post Structure:** Briefly outline the topics covered in the blog post.\\n\\n**II. Current Landscape of AI in India**\\n\\n*   **A. Government Initiatives and Policies:**\\n    *   National Strategy for AI (NITI Aayog):\\n        *   Key objectives and focus areas (e.g., healthcare, agriculture, education, smart cities, mobility).\\n        *   Government funding and investment in AI research and development.\\n    *   AI-related policies and regulations:\\n        *   Data protection bill and its impact on AI development.\\n        *   Other relevant policies promoting innovation and responsible AI.\\n*   **B. Key Sectors Driving AI Adoption:**\\n    *   **1. Healthcare:**\\n        *   AI-powered diagnostics (e.g., early detection of diseases using image analysis).\\n        *   Personalized medicine and drug discovery.\\n        *   AI chatbots for patient support and information.\\n        *   Examples of successful AI implementations in Indian healthcare.\\n    *   **2. Agriculture:**\\n        *   Precision farming using AI-powered sensors and data analytics.\\n        *   Crop monitoring and yield prediction.\\n        *   AI-based solutions for irrigation and pest control.\\n        *   Impact on farmer income and efficiency.\\n    *   **3. Finance:**\\n        *   AI-powered fraud detection and risk management.\\n        *   Algorithmic trading and investment management.\\n        *   Chatbots for customer service and financial advice.\\n        *   Personalized banking experiences.\\n    *   **4. Manufacturing:**\\n        *   Robotics and automation in production processes.\\n        *   Predictive maintenance to reduce downtime.\\n        *   Quality control using AI-powered vision systems.\\n        *   Improved efficiency and cost reduction.\\n    *   **5. Education:**\\n        *   Personalized learning platforms.\\n        *   AI-powered tutoring systems.\\n        *   Automated grading and assessment.\\n        *   Improved access to quality education.\\n*   **C. Key Players in the Indian AI Ecosystem:**\\n    *   **Startups:** Highlight prominent AI startups in India and their areas of focus.\\n    *   **Established Companies:** Mention large Indian IT companies and their AI initiatives.\\n    *   **Research Institutions:** List leading academic institutions contributing to AI research.\\n    *   **International Collaborations:**  Discuss partnerships between Indian institutions and foreign entities in AI.\\n\\n**III. Factors Fueling the Growth of AI in India**\\n\\n*   **A. Demographic Advantage:**\\n    *   Large pool of skilled and educated workforce.\\n    *   Growing digital literacy and internet penetration.\\n    *   Increasing smartphone usage and data consumption.\\n*   **B. Availability of Data:**\\n    *   Massive datasets generated by various sectors.\\n    *   Government initiatives to promote data sharing and accessibility.\\n    *   Importance of data privacy and security.\\n*   **C. Cost-Effectiveness:**\\n    *   Lower labor costs compared to developed countries.\\n    *   Availability of affordable AI solutions and services.\\n    *   Attracting foreign investment in AI-related ventures.\\n*   **D. Government Support and Investment:**\\n    *   Policies promoting innovation and entrepreneurship.\\n    *   Funding for AI research and development.\\n    *   Creation of AI-related jobs and skills development programs.\\n\\n**IV. Challenges and Opportunities**\\n\\n*   **A. Challenges:**\\n    *   **1. Infrastructure Limitations:**\\n        *   Inadequate computing power and internet connectivity in rural areas.\\n        *   Need for improved data storage and processing capabilities.\\n    *   **2. Skills Gap:**\\n        *   Shortage of skilled AI professionals (data scientists, machine learning engineers, etc.).\\n        *   Need for training and education programs to bridge the skills gap.\\n    *   **3. Ethical Concerns:**\\n        *   Bias in AI algorithms and its potential impact on fairness and equality.\\n        *   Data privacy and security concerns.\\n        *   Job displacement due to automation.\\n        *   Need for ethical guidelines and regulations for AI development and deployment.\\n    *   **4. Data Quality and Availability:**\\n        *   Ensuring data accuracy, completeness, and relevance.\\n        *   Addressing data silos and promoting data sharing.\\n*   **B. Opportunities:**\\n    *   **1. Economic Growth:**\\n        *   AI\\'s potential to boost productivity and efficiency across various sectors.\\n        *   Creation of new jobs and industries.\\n        *   Attracting foreign investment and boosting exports.\\n    *   **2. Social Impact:**\\n        *   Using AI to address social challenges in areas like healthcare, education, and agriculture.\\n        *   Improving access to services for marginalized communities.\\n        *   Promoting sustainable development.\\n    *   **3. Global Leadership:**\\n        *   India\\'s potential to become a global leader in AI research and development.\\n        *   Developing AI solutions tailored to the needs of emerging markets.\\n        *   Contributing to the global AI ecosystem.\\n\\n**V. Future Outlook**\\n\\n*   **A. Emerging Trends:**\\n    *   Edge AI and its applications in various sectors.\\n    *   Explainable AI (XAI) and its importance for trust and transparency.\\n    *   AI-powered cybersecurity solutions.\\n    *   AI in the Metaverse and Web3.\\n*   **B. Predictions for the Future:**\\n    *   Expected growth of the AI market in India.\\n    *   Impact of AI on employment and the future of work.\\n    *   Role of AI in shaping India\\'s future.\\n*   **C. Call to Action:**\\n    *   Encourage readers to learn more about AI and its potential impact.\\n    *   Promote collaboration between government, industry, and academia.\\n    *   Emphasize the importance of responsible AI development and deployment.\\n\\n**VI. Conclusion**\\n\\n*   **Reiterate Thesis Statement:** Briefly summarize the main points of the blog post.\\n*   **Concluding Thought:** Offer a final thought-provoking statement about the future of AI in India and its potential to transform the country. Example: \"India stands at the cusp of an AI revolution, and by addressing the challenges and embracing the opportunities, it can leverage AI to build a more prosperous, equitable, and sustainable future for all.\"\\n\\n**VII.  Optional Elements**\\n\\n*   **Visuals:** Incorporate relevant images, charts, and infographics to enhance engagement.\\n*   **Quotes:** Include quotes from industry experts and thought leaders.\\n*   **Case Studies:** Showcase successful AI implementations in India.\\n*   **Interactive Elements:** Consider adding polls or quizzes to engage the audience.\\n*   **References:**  Cite sources for data and information.\\n\\nThis detailed outline provides a comprehensive framework for a blog post on the rise of AI in India. Remember to tailor the content to your target audience and maintain a clear and engaging writing style. Good luck!'}\n"
     ]
    }
   ],
   "source": [
    "initial_state={'title': 'Rise of AI in India'}\n",
    "\n",
    "final_state = workflow.invoke(initial_state)\n",
    "print(final_state)"
   ]
  },
  {
   "cell_type": "code",
   "execution_count": 62,
   "id": "27dcf3f3",
   "metadata": {},
   "outputs": [
    {
     "name": "stdout",
     "output_type": "stream",
     "text": [
      "## Blog Outline: Rise of AI in India\n",
      "\n",
      "**I. Introduction**\n",
      "\n",
      "*   **Hook:** Start with a captivating statistic or anecdote about AI's impact in India (e.g., AI-powered farming increasing yield, AI chatbots improving customer service).\n",
      "*   **Brief Definition of AI:** Clearly and concisely define Artificial Intelligence. Avoid technical jargon. Focus on its core capabilities (learning, problem-solving, decision-making).\n",
      "*   **Thesis Statement:** Highlight the rapid adoption and transformative potential of AI in India across various sectors, while acknowledging existing challenges and future opportunities.  Example: \"India is experiencing a significant surge in AI adoption, poised to revolutionize its economy and society, but navigating challenges related to infrastructure, skills, and ethical considerations will be crucial for realizing its full potential.\"\n",
      "*   **Blog Post Structure:** Briefly outline the topics covered in the blog post.\n",
      "\n",
      "**II. Current Landscape of AI in India**\n",
      "\n",
      "*   **A. Government Initiatives and Policies:**\n",
      "    *   National Strategy for AI (NITI Aayog):\n",
      "        *   Key objectives and focus areas (e.g., healthcare, agriculture, education, smart cities, mobility).\n",
      "        *   Government funding and investment in AI research and development.\n",
      "    *   AI-related policies and regulations:\n",
      "        *   Data protection bill and its impact on AI development.\n",
      "        *   Other relevant policies promoting innovation and responsible AI.\n",
      "*   **B. Key Sectors Driving AI Adoption:**\n",
      "    *   **1. Healthcare:**\n",
      "        *   AI-powered diagnostics (e.g., early detection of diseases using image analysis).\n",
      "        *   Personalized medicine and drug discovery.\n",
      "        *   AI chatbots for patient support and information.\n",
      "        *   Examples of successful AI implementations in Indian healthcare.\n",
      "    *   **2. Agriculture:**\n",
      "        *   Precision farming using AI-powered sensors and data analytics.\n",
      "        *   Crop monitoring and yield prediction.\n",
      "        *   AI-based solutions for irrigation and pest control.\n",
      "        *   Impact on farmer income and efficiency.\n",
      "    *   **3. Finance:**\n",
      "        *   AI-powered fraud detection and risk management.\n",
      "        *   Algorithmic trading and investment management.\n",
      "        *   Chatbots for customer service and financial advice.\n",
      "        *   Personalized banking experiences.\n",
      "    *   **4. Manufacturing:**\n",
      "        *   Robotics and automation in production processes.\n",
      "        *   Predictive maintenance to reduce downtime.\n",
      "        *   Quality control using AI-powered vision systems.\n",
      "        *   Improved efficiency and cost reduction.\n",
      "    *   **5. Education:**\n",
      "        *   Personalized learning platforms.\n",
      "        *   AI-powered tutoring systems.\n",
      "        *   Automated grading and assessment.\n",
      "        *   Improved access to quality education.\n",
      "*   **C. Key Players in the Indian AI Ecosystem:**\n",
      "    *   **Startups:** Highlight prominent AI startups in India and their areas of focus.\n",
      "    *   **Established Companies:** Mention large Indian IT companies and their AI initiatives.\n",
      "    *   **Research Institutions:** List leading academic institutions contributing to AI research.\n",
      "    *   **International Collaborations:**  Discuss partnerships between Indian institutions and foreign entities in AI.\n",
      "\n",
      "**III. Factors Fueling the Growth of AI in India**\n",
      "\n",
      "*   **A. Demographic Advantage:**\n",
      "    *   Large pool of skilled and educated workforce.\n",
      "    *   Growing digital literacy and internet penetration.\n",
      "    *   Increasing smartphone usage and data consumption.\n",
      "*   **B. Availability of Data:**\n",
      "    *   Massive datasets generated by various sectors.\n",
      "    *   Government initiatives to promote data sharing and accessibility.\n",
      "    *   Importance of data privacy and security.\n",
      "*   **C. Cost-Effectiveness:**\n",
      "    *   Lower labor costs compared to developed countries.\n",
      "    *   Availability of affordable AI solutions and services.\n",
      "    *   Attracting foreign investment in AI-related ventures.\n",
      "*   **D. Government Support and Investment:**\n",
      "    *   Policies promoting innovation and entrepreneurship.\n",
      "    *   Funding for AI research and development.\n",
      "    *   Creation of AI-related jobs and skills development programs.\n",
      "\n",
      "**IV. Challenges and Opportunities**\n",
      "\n",
      "*   **A. Challenges:**\n",
      "    *   **1. Infrastructure Limitations:**\n",
      "        *   Inadequate computing power and internet connectivity in rural areas.\n",
      "        *   Need for improved data storage and processing capabilities.\n",
      "    *   **2. Skills Gap:**\n",
      "        *   Shortage of skilled AI professionals (data scientists, machine learning engineers, etc.).\n",
      "        *   Need for training and education programs to bridge the skills gap.\n",
      "    *   **3. Ethical Concerns:**\n",
      "        *   Bias in AI algorithms and its potential impact on fairness and equality.\n",
      "        *   Data privacy and security concerns.\n",
      "        *   Job displacement due to automation.\n",
      "        *   Need for ethical guidelines and regulations for AI development and deployment.\n",
      "    *   **4. Data Quality and Availability:**\n",
      "        *   Ensuring data accuracy, completeness, and relevance.\n",
      "        *   Addressing data silos and promoting data sharing.\n",
      "*   **B. Opportunities:**\n",
      "    *   **1. Economic Growth:**\n",
      "        *   AI's potential to boost productivity and efficiency across various sectors.\n",
      "        *   Creation of new jobs and industries.\n",
      "        *   Attracting foreign investment and boosting exports.\n",
      "    *   **2. Social Impact:**\n",
      "        *   Using AI to address social challenges in areas like healthcare, education, and agriculture.\n",
      "        *   Improving access to services for marginalized communities.\n",
      "        *   Promoting sustainable development.\n",
      "    *   **3. Global Leadership:**\n",
      "        *   India's potential to become a global leader in AI research and development.\n",
      "        *   Developing AI solutions tailored to the needs of emerging markets.\n",
      "        *   Contributing to the global AI ecosystem.\n",
      "\n",
      "**V. Future Outlook**\n",
      "\n",
      "*   **A. Emerging Trends:**\n",
      "    *   Edge AI and its applications in various sectors.\n",
      "    *   Explainable AI (XAI) and its importance for trust and transparency.\n",
      "    *   AI-powered cybersecurity solutions.\n",
      "    *   AI in the Metaverse and Web3.\n",
      "*   **B. Predictions for the Future:**\n",
      "    *   Expected growth of the AI market in India.\n",
      "    *   Impact of AI on employment and the future of work.\n",
      "    *   Role of AI in shaping India's future.\n",
      "*   **C. Call to Action:**\n",
      "    *   Encourage readers to learn more about AI and its potential impact.\n",
      "    *   Promote collaboration between government, industry, and academia.\n",
      "    *   Emphasize the importance of responsible AI development and deployment.\n",
      "\n",
      "**VI. Conclusion**\n",
      "\n",
      "*   **Reiterate Thesis Statement:** Briefly summarize the main points of the blog post.\n",
      "*   **Concluding Thought:** Offer a final thought-provoking statement about the future of AI in India and its potential to transform the country. Example: \"India stands at the cusp of an AI revolution, and by addressing the challenges and embracing the opportunities, it can leverage AI to build a more prosperous, equitable, and sustainable future for all.\"\n",
      "\n",
      "**VII.  Optional Elements**\n",
      "\n",
      "*   **Visuals:** Incorporate relevant images, charts, and infographics to enhance engagement.\n",
      "*   **Quotes:** Include quotes from industry experts and thought leaders.\n",
      "*   **Case Studies:** Showcase successful AI implementations in India.\n",
      "*   **Interactive Elements:** Consider adding polls or quizzes to engage the audience.\n",
      "*   **References:**  Cite sources for data and information.\n",
      "\n",
      "This detailed outline provides a comprehensive framework for a blog post on the rise of AI in India. Remember to tailor the content to your target audience and maintain a clear and engaging writing style. Good luck!\n"
     ]
    }
   ],
   "source": [
    "print(final_state['outline'])\n"
   ]
  },
  {
   "cell_type": "code",
   "execution_count": null,
   "id": "7ae1cfdf",
   "metadata": {},
   "outputs": [],
   "source": []
  },
  {
   "cell_type": "code",
   "execution_count": null,
   "id": "b36f00f1",
   "metadata": {},
   "outputs": [],
   "source": []
  }
 ],
 "metadata": {
  "kernelspec": {
   "display_name": "GENAI",
   "language": "python",
   "name": "python3"
  },
  "language_info": {
   "codemirror_mode": {
    "name": "ipython",
    "version": 3
   },
   "file_extension": ".py",
   "mimetype": "text/x-python",
   "name": "python",
   "nbconvert_exporter": "python",
   "pygments_lexer": "ipython3",
   "version": "3.13.5"
  }
 },
 "nbformat": 4,
 "nbformat_minor": 5
}
