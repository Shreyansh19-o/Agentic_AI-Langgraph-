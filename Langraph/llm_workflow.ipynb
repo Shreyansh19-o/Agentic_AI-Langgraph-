{
 "cells": [
  {
   "cell_type": "code",
   "execution_count": 10,
   "id": "f99361c7",
   "metadata": {},
   "outputs": [],
   "source": [
    "from langgraph.graph import StateGraph , START ,END\n",
    "from langchain_google_genai import ChatGoogleGenerativeAI\n",
    "from typing import TypedDict\n",
    "from dotenv import load_dotenv\n"
   ]
  },
  {
   "cell_type": "code",
   "execution_count": 11,
   "id": "93f4da50",
   "metadata": {},
   "outputs": [
    {
     "data": {
      "text/plain": [
       "True"
      ]
     },
     "execution_count": 11,
     "metadata": {},
     "output_type": "execute_result"
    }
   ],
   "source": [
    "load_dotenv()\n"
   ]
  },
  {
   "cell_type": "code",
   "execution_count": 12,
   "id": "93cfb9ed",
   "metadata": {},
   "outputs": [],
   "source": [
    "model=ChatGoogleGenerativeAI(model='gemini-2.0-flash')"
   ]
  },
  {
   "cell_type": "code",
   "execution_count": 13,
   "id": "82128f68",
   "metadata": {},
   "outputs": [],
   "source": [
    "#Create a state graph\n",
    "class LLMState(TypedDict):\n",
    "\n",
    "    question:str\n",
    "    answer:str"
   ]
  },
  {
   "cell_type": "code",
   "execution_count": 15,
   "id": "da91adab",
   "metadata": {},
   "outputs": [],
   "source": [
    "def llm_qa(state:LLMState) -> LLMState:\n",
    "\n",
    "    #extract q from state\n",
    "    question = state['question']\n",
    "\n",
    "    prompt=f'Answer the following question: {question}'\n",
    "    #get answer from model\n",
    "    answer=model.invoke(prompt).content\n",
    "    \n",
    "    state['answer']=answer\n",
    "\n",
    "    return state"
   ]
  },
  {
   "cell_type": "code",
   "execution_count": 18,
   "id": "7b07f948",
   "metadata": {},
   "outputs": [],
   "source": [
    "#create a graph\n",
    "graph=StateGraph(LLMState)\n",
    "\n",
    "#add nodes\n",
    "graph.add_node('llm_qa',llm_qa)\n",
    "#add edges\n",
    "graph.add_edge(START,'llm_qa')\n",
    "graph.add_edge('llm_qa',END)\n",
    "\n",
    "response=graph.compile()"
   ]
  },
  {
   "cell_type": "code",
   "execution_count": 19,
   "id": "9e38f03d",
   "metadata": {},
   "outputs": [
    {
     "name": "stdout",
     "output_type": "stream",
     "text": [
      "{'question': 'What is the capital of France?', 'answer': 'The capital of France is Paris.'}\n"
     ]
    }
   ],
   "source": [
    "initial_state={'question':'What is the capital of France?'}\n",
    "result=response.invoke(initial_state)\n",
    "print(result)"
   ]
  }
 ],
 "metadata": {
  "kernelspec": {
   "display_name": "GENAI",
   "language": "python",
   "name": "python3"
  },
  "language_info": {
   "codemirror_mode": {
    "name": "ipython",
    "version": 3
   },
   "file_extension": ".py",
   "mimetype": "text/x-python",
   "name": "python",
   "nbconvert_exporter": "python",
   "pygments_lexer": "ipython3",
   "version": "3.13.5"
  }
 },
 "nbformat": 4,
 "nbformat_minor": 5
}
